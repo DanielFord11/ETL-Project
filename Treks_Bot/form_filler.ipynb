{
 "cells": [
  {
   "cell_type": "code",
   "execution_count": 1,
   "metadata": {},
   "outputs": [],
   "source": [
    "import time\n",
    "from bs4 import BeautifulSoup\n",
    "from selenium import webdriver\n",
    "from selenium.webdriver.chrome.options import Options\n",
    "import pandas as pd\n",
    "from lxml import html\n",
    "import requests\n",
    "import ipywidgets as widgets"
   ]
  },
  {
   "cell_type": "code",
   "execution_count": null,
   "metadata": {},
   "outputs": [],
   "source": []
  },
  {
   "cell_type": "code",
   "execution_count": 2,
   "metadata": {},
   "outputs": [],
   "source": [
    "\n",
    "gyms = ['Rino', 'Baker', 'Englewood']\n",
    "gym_paths = ['https://app.rockgympro.com/b/widget/?a=offering&offering_guid=d9a768a045814f56a9fa79de9af419bf&random=5fce726e16a35&iframeid=&mode=p','https://app.rockgympro.com/b/widget/?a=offering&offering_guid=f730839bccf84809803c7dc955064c3d&random=5fce73321cfec&iframeid=&mode=p','https://app.rockgympro.com/b/widget/?a=offering&offering_guid=0077362cf5a04cfc9150386cfc7e6c03&random=5fce7342e5974&iframeid=&mode=p']\n",
    "gym_options = {\"gyms\": gyms, \"gym_paths\": gym_paths}\n",
    "gym_options = pd.DataFrame(gym_options)\n",
    "gym_options = gym_options.set_index(\"gyms\")\n",
    "gym_options = gym_options.T\n"
   ]
  },
  {
   "cell_type": "code",
   "execution_count": 3,
   "metadata": {},
   "outputs": [
    {
     "data": {
      "application/vnd.jupyter.widget-view+json": {
       "model_id": "84344195ca18498facaa04a05ee3cf1e",
       "version_major": 2,
       "version_minor": 0
      },
      "text/plain": [
       "interactive(children=(Dropdown(description='what gym do you want?', options=('Rino', 'Baker', 'Englewood'), va…"
      ]
     },
     "metadata": {},
     "output_type": "display_data"
    }
   ],
   "source": [
    "drop_down = widgets.Dropdown(options=gyms,\n",
    "                                                    \n",
    "                                value=\"Rino\",\n",
    "                                                      #sets name of dropdown\n",
    "                                description='what gym do you want?',\n",
    "                                disabled=False)\n",
    "\n",
    "def set_gym(gym_selection): \n",
    "    \n",
    "    global gym_url\n",
    "    gym_url = gym_options[gym_selection][0]\n",
    "\n",
    "    return gym_url\n",
    "    \n",
    "widgets.interact(set_gym, gym_selection=drop_down);"
   ]
  },
  {
   "cell_type": "code",
   "execution_count": 4,
   "metadata": {},
   "outputs": [
    {
     "name": "stderr",
     "output_type": "stream",
     "text": [
      "<ipython-input-4-f86866f00fab>:5: DeprecationWarning: use options instead of chrome_options\n",
      "  driver = webdriver.Chrome(chrome_options=options)\n"
     ]
    }
   ],
   "source": [
    "# URL of page to be scraped\n",
    "options = Options()\n",
    "options.add_argument('--headless')\n",
    "options.add_argument('--disable-gpu')\n",
    "driver = webdriver.Chrome(chrome_options=options)\n",
    "driver.get(gym_url)\n",
    "time.sleep(3)\n",
    "page = driver.page_source\n",
    "tree = html.fromstring(page)\n",
    "driver.quit()"
   ]
  },
  {
   "cell_type": "code",
   "execution_count": 5,
   "metadata": {},
   "outputs": [],
   "source": [
    "xpaths = []\n",
    "days = []\n",
    "\n",
    "for i in range(5):\n",
    "    for j in range(7):\n",
    "        text_xpath = f'//*[@id=\"start_date_calendar\"]/div/table/tbody/tr[{i+1}]/td[{j+1}]/a'\n",
    "        button_xpath = f'//*[@id=\"start_date_calendar\"]/div/table/tbody/tr[{i+1}]/td[{j+1}]'\n",
    "        xpaths.append(button_xpath)\n",
    "        day = tree.xpath(text_xpath)\n",
    "        \n",
    "        try:\n",
    "            days.append(day[0].text)\n",
    "        except:\n",
    "            days.append('none')"
   ]
  },
  {
   "cell_type": "code",
   "execution_count": 6,
   "metadata": {},
   "outputs": [
    {
     "data": {
      "text/html": [
       "<div>\n",
       "<style scoped>\n",
       "    .dataframe tbody tr th:only-of-type {\n",
       "        vertical-align: middle;\n",
       "    }\n",
       "\n",
       "    .dataframe tbody tr th {\n",
       "        vertical-align: top;\n",
       "    }\n",
       "\n",
       "    .dataframe thead th {\n",
       "        text-align: right;\n",
       "    }\n",
       "</style>\n",
       "<table border=\"1\" class=\"dataframe\">\n",
       "  <thead>\n",
       "    <tr style=\"text-align: right;\">\n",
       "      <th>days</th>\n",
       "      <th>none</th>\n",
       "      <th>none</th>\n",
       "      <th>none</th>\n",
       "      <th>none</th>\n",
       "      <th>none</th>\n",
       "      <th>none</th>\n",
       "      <th>none</th>\n",
       "      <th>none</th>\n",
       "      <th>none</th>\n",
       "      <th>none</th>\n",
       "      <th>...</th>\n",
       "      <th>none</th>\n",
       "      <th>26</th>\n",
       "      <th>27</th>\n",
       "      <th>28</th>\n",
       "      <th>29</th>\n",
       "      <th>30</th>\n",
       "      <th>31</th>\n",
       "      <th>none</th>\n",
       "      <th>none</th>\n",
       "      <th>none</th>\n",
       "    </tr>\n",
       "  </thead>\n",
       "  <tbody>\n",
       "    <tr>\n",
       "      <th>xpaths</th>\n",
       "      <td>//*[@id=\"start_date_calendar\"]/div/table/tbody...</td>\n",
       "      <td>//*[@id=\"start_date_calendar\"]/div/table/tbody...</td>\n",
       "      <td>//*[@id=\"start_date_calendar\"]/div/table/tbody...</td>\n",
       "      <td>//*[@id=\"start_date_calendar\"]/div/table/tbody...</td>\n",
       "      <td>//*[@id=\"start_date_calendar\"]/div/table/tbody...</td>\n",
       "      <td>//*[@id=\"start_date_calendar\"]/div/table/tbody...</td>\n",
       "      <td>//*[@id=\"start_date_calendar\"]/div/table/tbody...</td>\n",
       "      <td>//*[@id=\"start_date_calendar\"]/div/table/tbody...</td>\n",
       "      <td>//*[@id=\"start_date_calendar\"]/div/table/tbody...</td>\n",
       "      <td>//*[@id=\"start_date_calendar\"]/div/table/tbody...</td>\n",
       "      <td>...</td>\n",
       "      <td>//*[@id=\"start_date_calendar\"]/div/table/tbody...</td>\n",
       "      <td>//*[@id=\"start_date_calendar\"]/div/table/tbody...</td>\n",
       "      <td>//*[@id=\"start_date_calendar\"]/div/table/tbody...</td>\n",
       "      <td>//*[@id=\"start_date_calendar\"]/div/table/tbody...</td>\n",
       "      <td>//*[@id=\"start_date_calendar\"]/div/table/tbody...</td>\n",
       "      <td>//*[@id=\"start_date_calendar\"]/div/table/tbody...</td>\n",
       "      <td>//*[@id=\"start_date_calendar\"]/div/table/tbody...</td>\n",
       "      <td>//*[@id=\"start_date_calendar\"]/div/table/tbody...</td>\n",
       "      <td>//*[@id=\"start_date_calendar\"]/div/table/tbody...</td>\n",
       "      <td>//*[@id=\"start_date_calendar\"]/div/table/tbody...</td>\n",
       "    </tr>\n",
       "  </tbody>\n",
       "</table>\n",
       "<p>1 rows × 35 columns</p>\n",
       "</div>"
      ],
      "text/plain": [
       "days                                                 none  \\\n",
       "xpaths  //*[@id=\"start_date_calendar\"]/div/table/tbody...   \n",
       "\n",
       "days                                                 none  \\\n",
       "xpaths  //*[@id=\"start_date_calendar\"]/div/table/tbody...   \n",
       "\n",
       "days                                                 none  \\\n",
       "xpaths  //*[@id=\"start_date_calendar\"]/div/table/tbody...   \n",
       "\n",
       "days                                                 none  \\\n",
       "xpaths  //*[@id=\"start_date_calendar\"]/div/table/tbody...   \n",
       "\n",
       "days                                                 none  \\\n",
       "xpaths  //*[@id=\"start_date_calendar\"]/div/table/tbody...   \n",
       "\n",
       "days                                                 none  \\\n",
       "xpaths  //*[@id=\"start_date_calendar\"]/div/table/tbody...   \n",
       "\n",
       "days                                                 none  \\\n",
       "xpaths  //*[@id=\"start_date_calendar\"]/div/table/tbody...   \n",
       "\n",
       "days                                                 none  \\\n",
       "xpaths  //*[@id=\"start_date_calendar\"]/div/table/tbody...   \n",
       "\n",
       "days                                                 none  \\\n",
       "xpaths  //*[@id=\"start_date_calendar\"]/div/table/tbody...   \n",
       "\n",
       "days                                                 none  ...  \\\n",
       "xpaths  //*[@id=\"start_date_calendar\"]/div/table/tbody...  ...   \n",
       "\n",
       "days                                                 none  \\\n",
       "xpaths  //*[@id=\"start_date_calendar\"]/div/table/tbody...   \n",
       "\n",
       "days                                                   26  \\\n",
       "xpaths  //*[@id=\"start_date_calendar\"]/div/table/tbody...   \n",
       "\n",
       "days                                                   27  \\\n",
       "xpaths  //*[@id=\"start_date_calendar\"]/div/table/tbody...   \n",
       "\n",
       "days                                                   28  \\\n",
       "xpaths  //*[@id=\"start_date_calendar\"]/div/table/tbody...   \n",
       "\n",
       "days                                                   29  \\\n",
       "xpaths  //*[@id=\"start_date_calendar\"]/div/table/tbody...   \n",
       "\n",
       "days                                                   30  \\\n",
       "xpaths  //*[@id=\"start_date_calendar\"]/div/table/tbody...   \n",
       "\n",
       "days                                                   31  \\\n",
       "xpaths  //*[@id=\"start_date_calendar\"]/div/table/tbody...   \n",
       "\n",
       "days                                                 none  \\\n",
       "xpaths  //*[@id=\"start_date_calendar\"]/div/table/tbody...   \n",
       "\n",
       "days                                                 none  \\\n",
       "xpaths  //*[@id=\"start_date_calendar\"]/div/table/tbody...   \n",
       "\n",
       "days                                                 none  \n",
       "xpaths  //*[@id=\"start_date_calendar\"]/div/table/tbody...  \n",
       "\n",
       "[1 rows x 35 columns]"
      ]
     },
     "execution_count": 6,
     "metadata": {},
     "output_type": "execute_result"
    }
   ],
   "source": [
    "calendar_xpaths = {\"days\":days, \"xpaths\":xpaths}\n",
    "calendar_xpaths = pd.DataFrame(calendar_xpaths)\n",
    "calendar_xpaths = calendar_xpaths.set_index(\"days\")\n",
    "calendar_xpaths = calendar_xpaths.T\n",
    "calendar_xpaths"
   ]
  },
  {
   "cell_type": "code",
   "execution_count": null,
   "metadata": {},
   "outputs": [],
   "source": []
  },
  {
   "cell_type": "code",
   "execution_count": 7,
   "metadata": {},
   "outputs": [
    {
     "data": {
      "text/html": [
       "<div>\n",
       "<style scoped>\n",
       "    .dataframe tbody tr th:only-of-type {\n",
       "        vertical-align: middle;\n",
       "    }\n",
       "\n",
       "    .dataframe tbody tr th {\n",
       "        vertical-align: top;\n",
       "    }\n",
       "\n",
       "    .dataframe thead th {\n",
       "        text-align: right;\n",
       "    }\n",
       "</style>\n",
       "<table border=\"1\" class=\"dataframe\">\n",
       "  <thead>\n",
       "    <tr style=\"text-align: right;\">\n",
       "      <th>times</th>\n",
       "      <th>6 AM to 7:50 AM</th>\n",
       "      <th>8 AM to 9:50 AM</th>\n",
       "      <th>10 AM to 11:50 AM</th>\n",
       "      <th>12 PM to 1:50 PM</th>\n",
       "      <th>2 PM to 3:50 PM</th>\n",
       "      <th>4 PM to 5:50 PM</th>\n",
       "      <th>6 PM to 7:50 PM</th>\n",
       "      <th>8 PM to 10 PM</th>\n",
       "    </tr>\n",
       "  </thead>\n",
       "  <tbody>\n",
       "    <tr>\n",
       "      <th>time_paths</th>\n",
       "      <td>//*[@id=\"offering-page-select-events-table\"]/t...</td>\n",
       "      <td>//*[@id=\"offering-page-select-events-table\"]/t...</td>\n",
       "      <td>//*[@id=\"offering-page-select-events-table\"]/t...</td>\n",
       "      <td>//*[@id=\"offering-page-select-events-table\"]/t...</td>\n",
       "      <td>//*[@id=\"offering-page-select-events-table\"]/t...</td>\n",
       "      <td>//*[@id=\"offering-page-select-events-table\"]/t...</td>\n",
       "      <td>//*[@id=\"offering-page-select-events-table\"]/t...</td>\n",
       "      <td>//*[@id=\"offering-page-select-events-table\"]/t...</td>\n",
       "    </tr>\n",
       "  </tbody>\n",
       "</table>\n",
       "</div>"
      ],
      "text/plain": [
       "times                                         6 AM to 7:50 AM  \\\n",
       "time_paths  //*[@id=\"offering-page-select-events-table\"]/t...   \n",
       "\n",
       "times                                         8 AM to 9:50 AM  \\\n",
       "time_paths  //*[@id=\"offering-page-select-events-table\"]/t...   \n",
       "\n",
       "times                                       10 AM to 11:50 AM  \\\n",
       "time_paths  //*[@id=\"offering-page-select-events-table\"]/t...   \n",
       "\n",
       "times                                        12 PM to 1:50 PM  \\\n",
       "time_paths  //*[@id=\"offering-page-select-events-table\"]/t...   \n",
       "\n",
       "times                                         2 PM to 3:50 PM  \\\n",
       "time_paths  //*[@id=\"offering-page-select-events-table\"]/t...   \n",
       "\n",
       "times                                         4 PM to 5:50 PM  \\\n",
       "time_paths  //*[@id=\"offering-page-select-events-table\"]/t...   \n",
       "\n",
       "times                                         6 PM to 7:50 PM  \\\n",
       "time_paths  //*[@id=\"offering-page-select-events-table\"]/t...   \n",
       "\n",
       "times                                           8 PM to 10 PM  \n",
       "time_paths  //*[@id=\"offering-page-select-events-table\"]/t...  "
      ]
     },
     "execution_count": 7,
     "metadata": {},
     "output_type": "execute_result"
    }
   ],
   "source": [
    "times = [\"6 AM to 7:50 AM\", \"8 AM to 9:50 AM\", \"10 AM to 11:50 AM\", \"12 PM to 1:50 PM\", \"2 PM to 3:50 PM\", \"4 PM to 5:50 PM\", \"6 PM to 7:50 PM\", \"8 PM to 10 PM\"]\n",
    "time_paths = ['//*[@id=\"offering-page-select-events-table\"]/tbody/tr[1]/td[4]/a', '//*[@id=\"offering-page-select-events-table\"]/tbody/tr[2]/td[4]/a', '//*[@id=\"offering-page-select-events-table\"]/tbody/tr[3]/td[4]/a','//*[@id=\"offering-page-select-events-table\"]/tbody/tr[4]/td[4]/a','//*[@id=\"offering-page-select-events-table\"]/tbody/tr[5]/td[4]/a','//*[@id=\"offering-page-select-events-table\"]/tbody/tr[6]/td[4]/a','//*[@id=\"offering-page-select-events-table\"]/tbody/tr[7]/td[4]/a','//*[@id=\"offering-page-select-events-table\"]/tbody/tr[8]/td[4]/a']\n",
    "booking_time = {\"times\": times, \"time_paths\": time_paths}\n",
    "booking_time = pd.DataFrame(booking_time)\n",
    "booking_time = booking_time.set_index(\"times\")\n",
    "booking_time = booking_time.T\n",
    "\n",
    "booking_time"
   ]
  },
  {
   "cell_type": "code",
   "execution_count": null,
   "metadata": {},
   "outputs": [],
   "source": []
  },
  {
   "cell_type": "code",
   "execution_count": 8,
   "metadata": {},
   "outputs": [],
   "source": [
    "member_button_path = '//*[@id=\"theform\"]/div[6]/div/fieldset/table/tbody/tr[1]/td[1]/a[2]'\n",
    "first_name_path = '//*[@id=\"pfirstname-pindex-1-1\"]'\n",
    "last_name_path = '//*[@id=\"plastname-pindex-1-1\"]'\n",
    "birth_month_path = '//*[@id=\"participant-birth-pindex-1month\"]'\n",
    "roped_policy = '//*[@id=\"theform\"]/fieldset[2]/div[2]/span/input'\n",
    "cancel_policy = '//*[@id=\"theform\"]/fieldset[3]/div[2]/span/input'\n",
    "belay_check = '//*[@id=\"p1e3439023311f43c5aed076213a64e47b\"]/option[3]'\n",
    "lead_check =  '//*[@id=\"p10a0c36e929a24acfa25acf66ac5b5331\"]/option[3]'\n",
    "continue_ = '//*[@id=\"theform\"]/a[2]'\n",
    "email_path = '//*[@id=\"customer-email\"]'\n",
    "phone_path = '//*[@id=\"customer-phone\"]'"
   ]
  },
  {
   "cell_type": "code",
   "execution_count": 9,
   "metadata": {},
   "outputs": [],
   "source": [
    "birth_month_paths = ['//*[@id=\"participant-birth-pindex-1month\"]/option[2]', '//*[@id=\"participant-birth-pindex-1month\"]/option[3]', '//*[@id=\"participant-birth-pindex-1month\"]/option[4]', '//*[@id=\"participant-birth-pindex-1month\"]/option[5]', '//*[@id=\"participant-birth-pindex-1month\"]/option[6]','//*[@id=\"participant-birth-pindex-1month\"]/option[7]','//*[@id=\"participant-birth-pindex-1month\"]/option[8]', '//*[@id=\"participant-birth-pindex-1month\"]/option[9]', '//*[@id=\"participant-birth-pindex-1month\"]/option[10]', '//*[@id=\"participant-birth-pindex-1month\"]/option[11]', '//*[@id=\"participant-birth-pindex-1month\"]/option[12]','//*[@id=\"participant-birth-pindex-1month\"]/option[13]']\n",
    "birth_months = ['Jan', 'Feb', 'Mar', 'Apr', 'May', 'Jun', 'Jul', 'Aug', 'Sep', 'Oct', 'Nov', 'Dec']\n",
    "bmonth_options = {\"bmonths\": birth_months, \"bmonth_paths\": birth_month_paths}\n",
    "bmonth_options = pd.DataFrame(bmonth_options)\n",
    "bmonth_options = bmonth_options.set_index(\"bmonths\")\n",
    "bmonth_options = bmonth_options.T\n"
   ]
  },
  {
   "cell_type": "code",
   "execution_count": 10,
   "metadata": {},
   "outputs": [],
   "source": [
    "birthday_path = ['//*[@id=\"participant-birth-pindex-1day\"]/option[2]','//*[@id=\"participant-birth-pindex-1day\"]/option[3]','//*[@id=\"participant-birth-pindex-1day\"]/option[4]','//*[@id=\"participant-birth-pindex-1day\"]/option[5]','//*[@id=\"participant-birth-pindex-1day\"]/option[6]','//*[@id=\"participant-birth-pindex-1day\"]/option[7]','//*[@id=\"participant-birth-pindex-1day\"]/option[8]','//*[@id=\"participant-birth-pindex-1day\"]/option[9]','//*[@id=\"participant-birth-pindex-1day\"]/option[10]','//*[@id=\"participant-birth-pindex-1day\"]/option[11]','//*[@id=\"participant-birth-pindex-1day\"]/option[12]','//*[@id=\"participant-birth-pindex-1day\"]/option[13]','//*[@id=\"participant-birth-pindex-1day\"]/option[14]','//*[@id=\"participant-birth-pindex-1day\"]/option[15]','//*[@id=\"participant-birth-pindex-1day\"]/option[16]','//*[@id=\"participant-birth-pindex-1day\"]/option[17]','//*[@id=\"participant-birth-pindex-1day\"]/option[18]','//*[@id=\"participant-birth-pindex-1day\"]/option[19]','//*[@id=\"participant-birth-pindex-1day\"]/option[20]','//*[@id=\"participant-birth-pindex-1day\"]/option[21]','//*[@id=\"participant-birth-pindex-1day\"]/option[22]','//*[@id=\"participant-birth-pindex-1day\"]/option[23]','//*[@id=\"participant-birth-pindex-1day\"]/option[24]','//*[@id=\"participant-birth-pindex-1day\"]/option[25]','//*[@id=\"participant-birth-pindex-1day\"]/option[26]','//*[@id=\"participant-birth-pindex-1day\"]/option[27]','//*[@id=\"participant-birth-pindex-1day\"]/option[28]','//*[@id=\"participant-birth-pindex-1day\"]/option[29]','//*[@id=\"participant-birth-pindex-1day\"]/option[30]','//*[@id=\"participant-birth-pindex-1day\"]/option[31]','//*[@id=\"participant-birth-pindex-1day\"]/option[32]']\n",
    "b_days = ['1', '2', '3', '4', '5', '6', '7', '8', '9', '10', '11', '12', '13', '14', '15', '16', '17', '18', '19', '20', '21', '22', '23', '24', '25', '26', '27', '28', '29', '30', '31']\n",
    "bday_options = {\"days\": b_days, \"bday_paths\": birthday_path}\n",
    "bday_options = pd.DataFrame(bday_options)\n",
    "bday_options = bday_options.set_index(\"days\")\n",
    "bday_options = bday_options.T"
   ]
  },
  {
   "cell_type": "code",
   "execution_count": 11,
   "metadata": {},
   "outputs": [],
   "source": [
    "byear_paths= ['//*[@id=\"participant-birth-pindex-1year\"]/option[22]','//*[@id=\"participant-birth-pindex-1year\"]/option[23]','//*[@id=\"participant-birth-pindex-1year\"]/option[24]','//*[@id=\"participant-birth-pindex-1year\"]/option[25]','//*[@id=\"participant-birth-pindex-1year\"]/option[26]','//*[@id=\"participant-birth-pindex-1year\"]/option[27]','//*[@id=\"participant-birth-pindex-1year\"]/option[28]','//*[@id=\"participant-birth-pindex-1year\"]/option[29]','//*[@id=\"participant-birth-pindex-1year\"]/option[30]','//*[@id=\"participant-birth-pindex-1year\"]/option[31]','//*[@id=\"participant-birth-pindex-1year\"]/option[32]','//*[@id=\"participant-birth-pindex-1year\"]/option[33]','//*[@id=\"participant-birth-pindex-1year\"]/option[34]','//*[@id=\"participant-birth-pindex-1year\"]/option[35]','//*[@id=\"participant-birth-pindex-1year\"]/option[36]','//*[@id=\"participant-birth-pindex-1year\"]/option[37]','//*[@id=\"participant-birth-pindex-1year\"]/option[38]','//*[@id=\"participant-birth-pindex-1year\"]/option[39]','//*[@id=\"participant-birth-pindex-1year\"]/option[40]','//*[@id=\"participant-birth-pindex-1year\"]/option[41]','//*[@id=\"participant-birth-pindex-1year\"]/option[42]']\n",
    "byears = ['2020', '1999', '1998', '1997', '1996', '1995', '1994', '1993', '1992', '1991', '1990', '1989', '1988', '1987', '1986', '1985', '1984', '1983', '1982', '1981', '1980']\n",
    "byear_options = {\"years\": byears, \"byear_paths\": byear_paths}\n",
    "byear_options = pd.DataFrame(byear_options)\n",
    "byear_options = byear_options.set_index(\"years\")\n",
    "byear_options = byear_options.T\n",
    "#byear_options[\"1990\"][0]"
   ]
  },
  {
   "cell_type": "code",
   "execution_count": 12,
   "metadata": {},
   "outputs": [],
   "source": [
    "#gym selection\n"
   ]
  },
  {
   "cell_type": "code",
   "execution_count": 13,
   "metadata": {},
   "outputs": [
    {
     "name": "stdout",
     "output_type": "stream",
     "text": [
      "whats your first name?\n"
     ]
    }
   ],
   "source": [
    "first_name = input(\"whats your first name?\")"
   ]
  },
  {
   "cell_type": "code",
   "execution_count": 14,
   "metadata": {},
   "outputs": [
    {
     "name": "stdout",
     "output_type": "stream",
     "text": [
      "whats your last name?\n"
     ]
    }
   ],
   "source": [
    "last_name = input(\"whats your last name?\")"
   ]
  },
  {
   "cell_type": "code",
   "execution_count": 15,
   "metadata": {},
   "outputs": [
    {
     "name": "stdout",
     "output_type": "stream",
     "text": [
      "whats your email?\n"
     ]
    }
   ],
   "source": [
    "email = input(\"whats your email?\")"
   ]
  },
  {
   "cell_type": "code",
   "execution_count": 16,
   "metadata": {},
   "outputs": [
    {
     "name": "stdout",
     "output_type": "stream",
     "text": [
      "whats your phone number?\n"
     ]
    }
   ],
   "source": [
    "phone_number = input(\"whats your phone number?\")"
   ]
  },
  {
   "cell_type": "code",
   "execution_count": 17,
   "metadata": {},
   "outputs": [
    {
     "data": {
      "application/vnd.jupyter.widget-view+json": {
       "model_id": "c8056d0e22034c5886c575e9129bb682",
       "version_major": 2,
       "version_minor": 0
      },
      "text/plain": [
       "interactive(children=(Dropdown(description='Booking Day?', index=20, options=('none', 'none', 'none', 'none', …"
      ]
     },
     "metadata": {},
     "output_type": "display_data"
    }
   ],
   "source": [
    "drop_down = widgets.Dropdown(options=days,\n",
    "                                         \n",
    "                                value=\"20\",\n",
    "                                                      #sets name of dropdown\n",
    "                                description='Booking Day?',\n",
    "                                disabled=False)\n",
    "\n",
    "def set_day(day_selection): \n",
    "    \n",
    "    global booking_day_path\n",
    "    booking_day_path = calendar_xpaths[day_selection][0]\n",
    "\n",
    "    return booking_day_path\n",
    "    \n",
    "widgets.interact(set_day, day_selection=drop_down);"
   ]
  },
  {
   "cell_type": "code",
   "execution_count": 18,
   "metadata": {},
   "outputs": [
    {
     "data": {
      "application/vnd.jupyter.widget-view+json": {
       "model_id": "b1ece874891f407daec36285579dd665",
       "version_major": 2,
       "version_minor": 0
      },
      "text/plain": [
       "interactive(children=(Dropdown(description='Booking Time?', options=('6 AM to 7:50 AM', '8 AM to 9:50 AM', '10…"
      ]
     },
     "metadata": {},
     "output_type": "display_data"
    }
   ],
   "source": [
    "drop_down = widgets.Dropdown(options=times,\n",
    "                                                    \n",
    "                                value=\"6 AM to 7:50 AM\",\n",
    "                                                      #sets name of dropdown\n",
    "                                description='Booking Time?',\n",
    "                                disabled=False)\n",
    "\n",
    "def set_time(time_selection): \n",
    "    \n",
    "    global booking_time_path\n",
    "    booking_time_path = booking_time[time_selection][0]\n",
    "\n",
    "    return booking_time_path\n",
    "    \n",
    "widgets.interact(set_time, time_selection=drop_down);"
   ]
  },
  {
   "cell_type": "code",
   "execution_count": 19,
   "metadata": {},
   "outputs": [
    {
     "data": {
      "application/vnd.jupyter.widget-view+json": {
       "model_id": "60a06d3fd7474f5ab547a4b247d206cb",
       "version_major": 2,
       "version_minor": 0
      },
      "text/plain": [
       "interactive(children=(Dropdown(description='Birth_month?', options=('Jan', 'Feb', 'Mar', 'Apr', 'May', 'Jun', …"
      ]
     },
     "metadata": {},
     "output_type": "display_data"
    }
   ],
   "source": [
    "drop_down = widgets.Dropdown(options=birth_months,\n",
    "                                                    \n",
    "                                value=\"Jan\",\n",
    "                                                      #sets name of dropdown\n",
    "                                description='Birth_month?',\n",
    "                                disabled=False)\n",
    "\n",
    "def set_bmonth(bmonth_selection): \n",
    "    \n",
    "    global bmonth_path\n",
    "    bmonth_path = bmonth_options[bmonth_selection][0]\n",
    "\n",
    "    return bmonth_path\n",
    "    \n",
    "widgets.interact(set_bmonth, bmonth_selection=drop_down);"
   ]
  },
  {
   "cell_type": "code",
   "execution_count": 20,
   "metadata": {},
   "outputs": [
    {
     "data": {
      "application/vnd.jupyter.widget-view+json": {
       "model_id": "c406792c39c0433a98aa58bd7f95c3df",
       "version_major": 2,
       "version_minor": 0
      },
      "text/plain": [
       "interactive(children=(Dropdown(description='bday day?', options=('1', '2', '3', '4', '5', '6', '7', '8', '9', …"
      ]
     },
     "metadata": {},
     "output_type": "display_data"
    }
   ],
   "source": [
    "drop_down = widgets.Dropdown(options=b_days,\n",
    "                                                    \n",
    "                                value=\"1\",\n",
    "                                                      #sets name of dropdown\n",
    "                                description='bday day?',\n",
    "                                disabled=False)\n",
    "\n",
    "def set_bday(bday_selection): \n",
    "    \n",
    "    global bday_path\n",
    "    bday_path = bday_options[bday_selection][0]\n",
    "\n",
    "    return bday_path\n",
    "    \n",
    "widgets.interact(set_bday, bday_selection=drop_down);"
   ]
  },
  {
   "cell_type": "code",
   "execution_count": 21,
   "metadata": {},
   "outputs": [
    {
     "data": {
      "application/vnd.jupyter.widget-view+json": {
       "model_id": "f8eb0d0e113346899e8e7e2825d22ce9",
       "version_major": 2,
       "version_minor": 0
      },
      "text/plain": [
       "interactive(children=(Dropdown(description='bday year?', index=10, options=('2020', '1999', '1998', '1997', '1…"
      ]
     },
     "metadata": {},
     "output_type": "display_data"
    }
   ],
   "source": [
    "drop_down = widgets.Dropdown(options=byears,\n",
    "                                                    \n",
    "                                value=\"1990\",\n",
    "                                                      #sets name of dropdown\n",
    "                                description='bday year?',\n",
    "                                disabled=False)\n",
    "\n",
    "def set_byear(byear_selection): \n",
    "    \n",
    "    global byear_path\n",
    "    byear_path = byear_options[byear_selection][0]\n",
    "\n",
    "    return byear_path\n",
    "    \n",
    "widgets.interact(set_byear, byear_selection=drop_down);"
   ]
  },
  {
   "cell_type": "code",
   "execution_count": 22,
   "metadata": {},
   "outputs": [
    {
     "data": {
      "text/plain": [
       "'https://app.rockgympro.com/b/widget/?a=offering&offering_guid=d9a768a045814f56a9fa79de9af419bf&random=5fce726e16a35&iframeid=&mode=p'"
      ]
     },
     "execution_count": 22,
     "metadata": {},
     "output_type": "execute_result"
    }
   ],
   "source": [
    "gym_url"
   ]
  },
  {
   "cell_type": "code",
   "execution_count": 23,
   "metadata": {},
   "outputs": [],
   "source": [
    "web = webdriver.Chrome()\n",
    "web.get(gym_url)"
   ]
  },
  {
   "cell_type": "code",
   "execution_count": 24,
   "metadata": {},
   "outputs": [],
   "source": [
    "calendar_button = web.find_element_by_xpath(booking_day_path)\n",
    "calendar_button.click()"
   ]
  },
  {
   "cell_type": "code",
   "execution_count": 25,
   "metadata": {},
   "outputs": [],
   "source": [
    "member_button = web.find_element_by_xpath(member_button_path)\n",
    "member_button.click()"
   ]
  },
  {
   "cell_type": "code",
   "execution_count": 26,
   "metadata": {},
   "outputs": [
    {
     "ename": "NoSuchElementException",
     "evalue": "Message: no such element: Unable to locate element: {\"method\":\"xpath\",\"selector\":\"//*[@id=\"offering-page-select-events-table\"]/tbody/tr[1]/td[4]/a\"}\n  (Session info: chrome=87.0.4280.88)\n",
     "output_type": "error",
     "traceback": [
      "\u001b[0;31m---------------------------------------------------------------------------\u001b[0m",
      "\u001b[0;31mNoSuchElementException\u001b[0m                    Traceback (most recent call last)",
      "\u001b[0;32m<ipython-input-26-c1b31f57ba67>\u001b[0m in \u001b[0;36m<module>\u001b[0;34m\u001b[0m\n\u001b[0;32m----> 1\u001b[0;31m \u001b[0mtime_button\u001b[0m \u001b[0;34m=\u001b[0m \u001b[0mweb\u001b[0m\u001b[0;34m.\u001b[0m\u001b[0mfind_element_by_xpath\u001b[0m\u001b[0;34m(\u001b[0m\u001b[0mbooking_time_path\u001b[0m\u001b[0;34m)\u001b[0m\u001b[0;34m\u001b[0m\u001b[0;34m\u001b[0m\u001b[0m\n\u001b[0m\u001b[1;32m      2\u001b[0m \u001b[0mtime_button\u001b[0m\u001b[0;34m.\u001b[0m\u001b[0mclick\u001b[0m\u001b[0;34m(\u001b[0m\u001b[0;34m)\u001b[0m\u001b[0;34m\u001b[0m\u001b[0;34m\u001b[0m\u001b[0m\n",
      "\u001b[0;32m~/anaconda3/lib/python3.8/site-packages/selenium/webdriver/remote/webdriver.py\u001b[0m in \u001b[0;36mfind_element_by_xpath\u001b[0;34m(self, xpath)\u001b[0m\n\u001b[1;32m    392\u001b[0m             \u001b[0melement\u001b[0m \u001b[0;34m=\u001b[0m \u001b[0mdriver\u001b[0m\u001b[0;34m.\u001b[0m\u001b[0mfind_element_by_xpath\u001b[0m\u001b[0;34m(\u001b[0m\u001b[0;34m'//div/td[1]'\u001b[0m\u001b[0;34m)\u001b[0m\u001b[0;34m\u001b[0m\u001b[0;34m\u001b[0m\u001b[0m\n\u001b[1;32m    393\u001b[0m         \"\"\"\n\u001b[0;32m--> 394\u001b[0;31m         \u001b[0;32mreturn\u001b[0m \u001b[0mself\u001b[0m\u001b[0;34m.\u001b[0m\u001b[0mfind_element\u001b[0m\u001b[0;34m(\u001b[0m\u001b[0mby\u001b[0m\u001b[0;34m=\u001b[0m\u001b[0mBy\u001b[0m\u001b[0;34m.\u001b[0m\u001b[0mXPATH\u001b[0m\u001b[0;34m,\u001b[0m \u001b[0mvalue\u001b[0m\u001b[0;34m=\u001b[0m\u001b[0mxpath\u001b[0m\u001b[0;34m)\u001b[0m\u001b[0;34m\u001b[0m\u001b[0;34m\u001b[0m\u001b[0m\n\u001b[0m\u001b[1;32m    395\u001b[0m \u001b[0;34m\u001b[0m\u001b[0m\n\u001b[1;32m    396\u001b[0m     \u001b[0;32mdef\u001b[0m \u001b[0mfind_elements_by_xpath\u001b[0m\u001b[0;34m(\u001b[0m\u001b[0mself\u001b[0m\u001b[0;34m,\u001b[0m \u001b[0mxpath\u001b[0m\u001b[0;34m)\u001b[0m\u001b[0;34m:\u001b[0m\u001b[0;34m\u001b[0m\u001b[0;34m\u001b[0m\u001b[0m\n",
      "\u001b[0;32m~/anaconda3/lib/python3.8/site-packages/selenium/webdriver/remote/webdriver.py\u001b[0m in \u001b[0;36mfind_element\u001b[0;34m(self, by, value)\u001b[0m\n\u001b[1;32m    974\u001b[0m                 \u001b[0mby\u001b[0m \u001b[0;34m=\u001b[0m \u001b[0mBy\u001b[0m\u001b[0;34m.\u001b[0m\u001b[0mCSS_SELECTOR\u001b[0m\u001b[0;34m\u001b[0m\u001b[0;34m\u001b[0m\u001b[0m\n\u001b[1;32m    975\u001b[0m                 \u001b[0mvalue\u001b[0m \u001b[0;34m=\u001b[0m \u001b[0;34m'[name=\"%s\"]'\u001b[0m \u001b[0;34m%\u001b[0m \u001b[0mvalue\u001b[0m\u001b[0;34m\u001b[0m\u001b[0;34m\u001b[0m\u001b[0m\n\u001b[0;32m--> 976\u001b[0;31m         return self.execute(Command.FIND_ELEMENT, {\n\u001b[0m\u001b[1;32m    977\u001b[0m             \u001b[0;34m'using'\u001b[0m\u001b[0;34m:\u001b[0m \u001b[0mby\u001b[0m\u001b[0;34m,\u001b[0m\u001b[0;34m\u001b[0m\u001b[0;34m\u001b[0m\u001b[0m\n\u001b[1;32m    978\u001b[0m             'value': value})['value']\n",
      "\u001b[0;32m~/anaconda3/lib/python3.8/site-packages/selenium/webdriver/remote/webdriver.py\u001b[0m in \u001b[0;36mexecute\u001b[0;34m(self, driver_command, params)\u001b[0m\n\u001b[1;32m    319\u001b[0m         \u001b[0mresponse\u001b[0m \u001b[0;34m=\u001b[0m \u001b[0mself\u001b[0m\u001b[0;34m.\u001b[0m\u001b[0mcommand_executor\u001b[0m\u001b[0;34m.\u001b[0m\u001b[0mexecute\u001b[0m\u001b[0;34m(\u001b[0m\u001b[0mdriver_command\u001b[0m\u001b[0;34m,\u001b[0m \u001b[0mparams\u001b[0m\u001b[0;34m)\u001b[0m\u001b[0;34m\u001b[0m\u001b[0;34m\u001b[0m\u001b[0m\n\u001b[1;32m    320\u001b[0m         \u001b[0;32mif\u001b[0m \u001b[0mresponse\u001b[0m\u001b[0;34m:\u001b[0m\u001b[0;34m\u001b[0m\u001b[0;34m\u001b[0m\u001b[0m\n\u001b[0;32m--> 321\u001b[0;31m             \u001b[0mself\u001b[0m\u001b[0;34m.\u001b[0m\u001b[0merror_handler\u001b[0m\u001b[0;34m.\u001b[0m\u001b[0mcheck_response\u001b[0m\u001b[0;34m(\u001b[0m\u001b[0mresponse\u001b[0m\u001b[0;34m)\u001b[0m\u001b[0;34m\u001b[0m\u001b[0;34m\u001b[0m\u001b[0m\n\u001b[0m\u001b[1;32m    322\u001b[0m             response['value'] = self._unwrap_value(\n\u001b[1;32m    323\u001b[0m                 response.get('value', None))\n",
      "\u001b[0;32m~/anaconda3/lib/python3.8/site-packages/selenium/webdriver/remote/errorhandler.py\u001b[0m in \u001b[0;36mcheck_response\u001b[0;34m(self, response)\u001b[0m\n\u001b[1;32m    240\u001b[0m                 \u001b[0malert_text\u001b[0m \u001b[0;34m=\u001b[0m \u001b[0mvalue\u001b[0m\u001b[0;34m[\u001b[0m\u001b[0;34m'alert'\u001b[0m\u001b[0;34m]\u001b[0m\u001b[0;34m.\u001b[0m\u001b[0mget\u001b[0m\u001b[0;34m(\u001b[0m\u001b[0;34m'text'\u001b[0m\u001b[0;34m)\u001b[0m\u001b[0;34m\u001b[0m\u001b[0;34m\u001b[0m\u001b[0m\n\u001b[1;32m    241\u001b[0m             \u001b[0;32mraise\u001b[0m \u001b[0mexception_class\u001b[0m\u001b[0;34m(\u001b[0m\u001b[0mmessage\u001b[0m\u001b[0;34m,\u001b[0m \u001b[0mscreen\u001b[0m\u001b[0;34m,\u001b[0m \u001b[0mstacktrace\u001b[0m\u001b[0;34m,\u001b[0m \u001b[0malert_text\u001b[0m\u001b[0;34m)\u001b[0m\u001b[0;34m\u001b[0m\u001b[0;34m\u001b[0m\u001b[0m\n\u001b[0;32m--> 242\u001b[0;31m         \u001b[0;32mraise\u001b[0m \u001b[0mexception_class\u001b[0m\u001b[0;34m(\u001b[0m\u001b[0mmessage\u001b[0m\u001b[0;34m,\u001b[0m \u001b[0mscreen\u001b[0m\u001b[0;34m,\u001b[0m \u001b[0mstacktrace\u001b[0m\u001b[0;34m)\u001b[0m\u001b[0;34m\u001b[0m\u001b[0;34m\u001b[0m\u001b[0m\n\u001b[0m\u001b[1;32m    243\u001b[0m \u001b[0;34m\u001b[0m\u001b[0m\n\u001b[1;32m    244\u001b[0m     \u001b[0;32mdef\u001b[0m \u001b[0m_value_or_default\u001b[0m\u001b[0;34m(\u001b[0m\u001b[0mself\u001b[0m\u001b[0;34m,\u001b[0m \u001b[0mobj\u001b[0m\u001b[0;34m,\u001b[0m \u001b[0mkey\u001b[0m\u001b[0;34m,\u001b[0m \u001b[0mdefault\u001b[0m\u001b[0;34m)\u001b[0m\u001b[0;34m:\u001b[0m\u001b[0;34m\u001b[0m\u001b[0;34m\u001b[0m\u001b[0m\n",
      "\u001b[0;31mNoSuchElementException\u001b[0m: Message: no such element: Unable to locate element: {\"method\":\"xpath\",\"selector\":\"//*[@id=\"offering-page-select-events-table\"]/tbody/tr[1]/td[4]/a\"}\n  (Session info: chrome=87.0.4280.88)\n"
     ]
    }
   ],
   "source": [
    "time_button = web.find_element_by_xpath(booking_time_path)\n",
    "time_button.click()"
   ]
  },
  {
   "cell_type": "code",
   "execution_count": null,
   "metadata": {},
   "outputs": [],
   "source": [
    "first = web.find_element_by_xpath(first_name_path)\n",
    "first.send_keys(first_name)"
   ]
  },
  {
   "cell_type": "code",
   "execution_count": 45,
   "metadata": {},
   "outputs": [],
   "source": [
    "last = web.find_element_by_xpath(last_name_path)\n",
    "last.send_keys(last_name)"
   ]
  },
  {
   "cell_type": "code",
   "execution_count": 46,
   "metadata": {},
   "outputs": [],
   "source": [
    "bmonth_button = web.find_element_by_xpath(bmonth_path)\n",
    "bmonth_button.click()\n",
    "\n",
    "bday_button = web.find_element_by_xpath(bday_path)\n",
    "bday_button.click()\n",
    "\n",
    "byear_button = web.find_element_by_xpath(byear_path)\n",
    "byear_button.click()"
   ]
  },
  {
   "cell_type": "code",
   "execution_count": 47,
   "metadata": {},
   "outputs": [],
   "source": [
    "roped_climbing_box = web.find_element_by_xpath(roped_policy)\n",
    "roped_climbing_box.click()"
   ]
  },
  {
   "cell_type": "code",
   "execution_count": 48,
   "metadata": {},
   "outputs": [],
   "source": [
    "cancellation_policy = web.find_element_by_xpath(cancel_policy)\n",
    "cancellation_policy.click()"
   ]
  },
  {
   "cell_type": "code",
   "execution_count": 51,
   "metadata": {},
   "outputs": [],
   "source": [
    "belay_box = web.find_element_by_xpath('//*[@id=\"p100b26ba0418e4ba5bd10983e0a9a29af\"]/option[3]')\n",
    "belay_box.click()"
   ]
  },
  {
   "cell_type": "code",
   "execution_count": 52,
   "metadata": {},
   "outputs": [],
   "source": [
    "lead_box = web.find_element_by_xpath('//*[@id=\"p1c0fdf2b4924a4ecf875102f7cc2e6aa6\"]/option[3]')\n",
    "lead_box.click()"
   ]
  },
  {
   "cell_type": "code",
   "execution_count": 53,
   "metadata": {},
   "outputs": [],
   "source": [
    "continue_button = web.find_element_by_xpath(continue_)\n",
    "continue_button.click()"
   ]
  },
  {
   "cell_type": "code",
   "execution_count": 57,
   "metadata": {},
   "outputs": [],
   "source": [
    "email_input = web.find_element_by_xpath(email_path)\n",
    "phone_input = web.find_element_by_xpath(phone_path)\n",
    "email_input.send_keys(email)\n",
    "phone_input.send_keys(phone_number)"
   ]
  },
  {
   "cell_type": "code",
   "execution_count": 54,
   "metadata": {},
   "outputs": [],
   "source": [
    "noshow_box = web.find_element_by_xpath('//*[@id=\"theform\"]/fieldset[5]/div/strong[7]/span[2]/input')\n",
    "noshow_box.click()"
   ]
  },
  {
   "cell_type": "code",
   "execution_count": null,
   "metadata": {},
   "outputs": [],
   "source": [
    "complete_button = web.find_element_by_xpath('//*[@id=\"confirm_booking_button\"]')\n",
    "complete_button.click()"
   ]
  },
  {
   "cell_type": "code",
   "execution_count": null,
   "metadata": {},
   "outputs": [],
   "source": []
  },
  {
   "cell_type": "code",
   "execution_count": 27,
   "metadata": {},
   "outputs": [],
   "source": [
    "booking_input = {\n",
    "\n",
    "      'first_name': 'Daniel',\n",
    "      'last_name': 'Ford',\n",
    "      'phone_number': '303-264-8871',\n",
    "      'email':'dannyford11@me.com',\n",
    "      'bday_month': 'Apr',\n",
    "      'bday_day': '18',\n",
    "      'bday_year': '1990',\n",
    "      'gym': 'Rino',\n",
    "      'booking_time': \"8 AM to 9:50 AM\",\n",
    "      'day_selection': \"20\",\n",
    "\n",
    "    }\n"
   ]
  },
  {
   "cell_type": "code",
   "execution_count": 54,
   "metadata": {},
   "outputs": [
    {
     "data": {
      "text/plain": [
       "'Rino'"
      ]
     },
     "execution_count": 54,
     "metadata": {},
     "output_type": "execute_result"
    }
   ],
   "source": [
    "booking_day_path = mock_booking_paths[\"booking_day_path\"]"
   ]
  },
  {
   "cell_type": "code",
   "execution_count": 55,
   "metadata": {},
   "outputs": [],
   "source": [
    "booking_day_path = calendar_xpaths[booking_input[\"day_selection\"]][0]"
   ]
  },
  {
   "cell_type": "code",
   "execution_count": 56,
   "metadata": {},
   "outputs": [
    {
     "data": {
      "text/plain": [
       "'//*[@id=\"start_date_calendar\"]/div/table/tbody/tr[3]/td[7]'"
      ]
     },
     "execution_count": 56,
     "metadata": {},
     "output_type": "execute_result"
    }
   ],
   "source": [
    "booking_day_path"
   ]
  },
  {
   "cell_type": "code",
   "execution_count": 57,
   "metadata": {},
   "outputs": [],
   "source": [
    "booking_time_path = booking_time[booking_input[\"booking_time\"]][0]"
   ]
  },
  {
   "cell_type": "code",
   "execution_count": 58,
   "metadata": {},
   "outputs": [
    {
     "data": {
      "text/plain": [
       "'//*[@id=\"offering-page-select-events-table\"]/tbody/tr[2]/td[4]/a'"
      ]
     },
     "execution_count": 58,
     "metadata": {},
     "output_type": "execute_result"
    }
   ],
   "source": [
    "booking_time_path"
   ]
  },
  {
   "cell_type": "code",
   "execution_count": 59,
   "metadata": {},
   "outputs": [],
   "source": [
    "bmonth_path = bmonth_options[booking_input[\"bday_month\"]][0]"
   ]
  },
  {
   "cell_type": "code",
   "execution_count": 60,
   "metadata": {},
   "outputs": [
    {
     "data": {
      "text/plain": [
       "'//*[@id=\"participant-birth-pindex-1month\"]/option[5]'"
      ]
     },
     "execution_count": 60,
     "metadata": {},
     "output_type": "execute_result"
    }
   ],
   "source": [
    "bmonth_path"
   ]
  },
  {
   "cell_type": "code",
   "execution_count": 61,
   "metadata": {},
   "outputs": [],
   "source": [
    "bday_path = bday_options[booking_input['bday_day']][0]"
   ]
  },
  {
   "cell_type": "code",
   "execution_count": 62,
   "metadata": {},
   "outputs": [
    {
     "data": {
      "text/plain": [
       "'//*[@id=\"participant-birth-pindex-1day\"]/option[19]'"
      ]
     },
     "execution_count": 62,
     "metadata": {},
     "output_type": "execute_result"
    }
   ],
   "source": [
    "bday_path"
   ]
  },
  {
   "cell_type": "code",
   "execution_count": 64,
   "metadata": {},
   "outputs": [],
   "source": [
    "byear_path = byear_options[booking_input['bday_year']][0]"
   ]
  },
  {
   "cell_type": "code",
   "execution_count": 65,
   "metadata": {},
   "outputs": [
    {
     "data": {
      "text/plain": [
       "'//*[@id=\"participant-birth-pindex-1year\"]/option[32]'"
      ]
     },
     "execution_count": 65,
     "metadata": {},
     "output_type": "execute_result"
    }
   ],
   "source": [
    "byear_path"
   ]
  },
  {
   "cell_type": "code",
   "execution_count": 5,
   "metadata": {},
   "outputs": [],
   "source": [
    "import time\n",
    "from selenium import webdriver\n",
    "from selenium.webdriver.chrome.options import Options\n",
    "import pandas as pd\n",
    "from lxml import html\n",
    "import requests\n"
   ]
  },
  {
   "cell_type": "code",
   "execution_count": 28,
   "metadata": {},
   "outputs": [],
   "source": [
    "mock_booking_paths = {\n",
    "\n",
    "    \"booking_day_path\" : '//*[@id=\"start_date_calendar\"]/div/table/tbody/tr[3]/td[3]',\n",
    "    \"booking_time_path\" : '//*[@id=\"offering-page-select-events-table\"]/tbody/tr[2]/td[4]/a',\n",
    "    \"bmonth_path\" : '//*[@id=\"participant-birth-pindex-1month\"]/option[5]',\n",
    "    \"bday_path\" : '//*[@id=\"participant-birth-pindex-1day\"]/option[19]',\n",
    "    \"byear_path\" : '//*[@id=\"participant-birth-pindex-1year\"]/option[32]',\n",
    "    \"gym_url\" : 'https://app.rockgympro.com/b/widget/?a=offering&offering_guid=d9a768a045814f56a9fa79de9af419bf&random=5fce726e16a35&iframeid=&mode=p'\n",
    "    }"
   ]
  },
  {
   "cell_type": "code",
   "execution_count": 8,
   "metadata": {},
   "outputs": [],
   "source": [
    "    member_button_path = '//*[@id=\"theform\"]/div[6]/div/fieldset/table/tbody/tr[1]/td[1]/a[2]'\n",
    "    first_name_path = '//*[@id=\"pfirstname-pindex-1-1\"]'\n",
    "    last_name_path = '//*[@id=\"plastname-pindex-1-1\"]'\n",
    "    birth_month_path = '//*[@id=\"participant-birth-pindex-1month\"]'\n",
    "    roped_policy = '//*[@id=\"theform\"]/fieldset[2]/div[2]/span/input'\n",
    "    cancel_policy = '//*[@id=\"theform\"]/fieldset[3]/div[2]/span/input'\n",
    "    belay_check = '//*[@id=\"p1e3439023311f43c5aed076213a64e47b\"]/option[3]'\n",
    "    lead_check =  '//*[@id=\"p10a0c36e929a24acfa25acf66ac5b5331\"]/option[3]'\n",
    "    continue_ = '//*[@id=\"theform\"]/a[2]'\n",
    "    email_path = '//*[@id=\"customer-email\"]'\n",
    "    phone_path = '//*[@id=\"customer-phone\"]'\n",
    "    confirm_button = '//*[@id=\"confirm_booking_button\"]'\n",
    "    agree_box = '//*[@id=\"theform\"]/fieldset[5]/div[2]/input'\n",
    "    cancel_box = '//*[@id=\"theform\"]/fieldset[5]/div[3]/strong[8]/span/input'"
   ]
  },
  {
   "cell_type": "code",
   "execution_count": 9,
   "metadata": {},
   "outputs": [],
   "source": [
    "gym_url = mock_booking_paths[\"gym_url\"]\n",
    "booking_day_path = mock_booking_paths[\"booking_day_path\"]\n",
    "booking_time_path = mock_booking_paths[\"booking_time_path\"]\n",
    "bmonth_path = mock_booking_paths[\"bmonth_path\"]\n",
    "bday_path = mock_booking_paths[\"bday_path\"]\n",
    "byear_path = mock_booking_paths[\"byear_path\"]"
   ]
  },
  {
   "cell_type": "code",
   "execution_count": 10,
   "metadata": {},
   "outputs": [],
   "source": [
    "options = Options()\n",
    "options.add_argument('--headless')\n",
    "options.add_argument('--disachble-gpu')\n",
    "driver = webdriver.Chrome(options=options)\n",
    "driver.get(gym_url)\n",
    "web = webdriver.Chrome()\n",
    "web.get(gym_url)"
   ]
  },
  {
   "cell_type": "code",
   "execution_count": 11,
   "metadata": {},
   "outputs": [],
   "source": [
    "calendar_button = web.find_element_by_xpath(booking_day_path)\n",
    "calendar_button.click()"
   ]
  },
  {
   "cell_type": "code",
   "execution_count": 12,
   "metadata": {},
   "outputs": [],
   "source": [
    "member_button = web.find_element_by_xpath(member_button_path)\n",
    "member_button.click()\n"
   ]
  },
  {
   "cell_type": "code",
   "execution_count": null,
   "metadata": {},
   "outputs": [],
   "source": [
    "time_button = web.find_element_by_xpath(booking_time_path)\n",
    "time_button.click()"
   ]
  },
  {
   "cell_type": "code",
   "execution_count": null,
   "metadata": {},
   "outputs": [],
   "source": [
    "first = web.find_element_by_xpath(first_name_path)\n",
    "first.send_keys(first_name)"
   ]
  },
  {
   "cell_type": "code",
   "execution_count": null,
   "metadata": {},
   "outputs": [],
   "source": [
    "last = web.find_element_by_xpath(last_name_path)\n",
    "last.send_keys(last_name)"
   ]
  },
  {
   "cell_type": "code",
   "execution_count": null,
   "metadata": {},
   "outputs": [],
   "source": [
    "bmonth_button = web.find_element_by_xpath(bmonth_path)\n",
    "bmonth_button.click()"
   ]
  },
  {
   "cell_type": "code",
   "execution_count": null,
   "metadata": {},
   "outputs": [],
   "source": []
  },
  {
   "cell_type": "code",
   "execution_count": 29,
   "metadata": {},
   "outputs": [],
   "source": [
    "booking_day_path = mock_booking_paths[\"booking_day_path\"]"
   ]
  },
  {
   "cell_type": "code",
   "execution_count": 30,
   "metadata": {},
   "outputs": [
    {
     "data": {
      "text/plain": [
       "'//*[@id=\"start_date_calendar\"]/div/table/tbody/tr[3]/td[3]'"
      ]
     },
     "execution_count": 30,
     "metadata": {},
     "output_type": "execute_result"
    }
   ],
   "source": [
    "booking_day_path"
   ]
  },
  {
   "cell_type": "code",
   "execution_count": null,
   "metadata": {},
   "outputs": [],
   "source": []
  },
  {
   "cell_type": "code",
   "execution_count": null,
   "metadata": {},
   "outputs": [],
   "source": []
  },
  {
   "cell_type": "code",
   "execution_count": null,
   "metadata": {},
   "outputs": [],
   "source": []
  }
 ],
 "metadata": {
  "kernelspec": {
   "display_name": "Python 3",
   "language": "python",
   "name": "python3"
  },
  "language_info": {
   "codemirror_mode": {
    "name": "ipython",
    "version": 3
   },
   "file_extension": ".py",
   "mimetype": "text/x-python",
   "name": "python",
   "nbconvert_exporter": "python",
   "pygments_lexer": "ipython3",
   "version": "3.8.3"
  },
  "varInspector": {
   "cols": {
    "lenName": 16,
    "lenType": 16,
    "lenVar": 40
   },
   "kernels_config": {
    "python": {
     "delete_cmd_postfix": "",
     "delete_cmd_prefix": "del ",
     "library": "var_list.py",
     "varRefreshCmd": "print(var_dic_list())"
    },
    "r": {
     "delete_cmd_postfix": ") ",
     "delete_cmd_prefix": "rm(",
     "library": "var_list.r",
     "varRefreshCmd": "cat(var_dic_list()) "
    }
   },
   "types_to_exclude": [
    "module",
    "function",
    "builtin_function_or_method",
    "instance",
    "_Feature"
   ],
   "window_display": false
  }
 },
 "nbformat": 4,
 "nbformat_minor": 2
}
